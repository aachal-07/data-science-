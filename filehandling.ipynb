{
 "cells": [
  {
   "cell_type": "markdown",
   "id": "4b6cf5d8",
   "metadata": {},
   "source": [
    "#### File Handling \n",
    "\n",
    "| Mode  | Meaning            | Description                                                                          |\n",
    "| ----- | ------------------ | ------------------------------------------------------------------------------------ |\n",
    "| `'r'` | Read               | Opens a file for reading. File must exist.                                           |\n",
    "| `'w'` | Write              | Opens a file for writing. Creates a new file or **overwrites** if it exists.         |\n",
    "| `'a'` | Append             | Opens a file for appending. Creates if not exists; **adds to the end**.              |\n",
    "| `'x'` | Exclusive creation | Creates a file, **fails if file                         |\n"
   ]
  },
  {
   "cell_type": "code",
   "execution_count": null,
   "id": "b926f3cc",
   "metadata": {},
   "outputs": [],
   "source": [
    "file =open(\"poet.txt\",'r')\n",
    "file.read()\n",
    "file.close()"
   ]
  },
  {
   "cell_type": "code",
   "execution_count": null,
   "id": "8edeb376",
   "metadata": {},
   "outputs": [],
   "source": [
    "file =open(\"poet2.txt\",'w')\n",
    "file.write(\"aap kese ho and data sciecne kesa hai \")\n",
    "file.close()"
   ]
  },
  {
   "cell_type": "code",
   "execution_count": null,
   "id": "8f14d00d",
   "metadata": {},
   "outputs": [],
   "source": [
    "file =open(\"poet2.txt\",'r')\n",
    "file.read()\n",
    "file.close()"
   ]
  },
  {
   "cell_type": "code",
   "execution_count": null,
   "id": "46ff8a9a",
   "metadata": {},
   "outputs": [],
   "source": [
    "with open(\"poet2.txt\") as file:\n",
    "    print(file.read())"
   ]
  },
  {
   "cell_type": "code",
   "execution_count": null,
   "id": "668b70fa",
   "metadata": {},
   "outputs": [],
   "source": [
    "file =open(\"poet4.txt\", \"a\")\n",
    "file.write(\"aap kese ho and data sciecne kesa hai \")\n",
    "file.close()"
   ]
  },
  {
   "cell_type": "code",
   "execution_count": null,
   "id": "3bc067e5",
   "metadata": {},
   "outputs": [],
   "source": [
    "open(\"poet2.txt\", \"r\").read()\n"
   ]
  },
  {
   "cell_type": "code",
   "execution_count": null,
   "id": "8f134045",
   "metadata": {},
   "outputs": [],
   "source": [
    "file =open(\"kapil.txt\", \"x\") ### agr file hai to ye erroe de dega and agr file nhi hai to ye file create krega\n",
    "file.close()"
   ]
  },
  {
   "cell_type": "code",
   "execution_count": null,
   "id": "cbcf0f8c",
   "metadata": {},
   "outputs": [],
   "source": [
    "open(\"kapil.txt\", \"r\").read()\n"
   ]
  },
  {
   "cell_type": "code",
   "execution_count": null,
   "id": "989bed28",
   "metadata": {},
   "outputs": [],
   "source": [
    "open(\"kapil.txt\", \"w\").write(\"aap kese ho and data sciecne kesa hai \")"
   ]
  },
  {
   "cell_type": "code",
   "execution_count": null,
   "id": "3c9c820a",
   "metadata": {},
   "outputs": [],
   "source": [
    "open(\"kapil.txt\", \"r\").read()"
   ]
  },
  {
   "cell_type": "code",
   "execution_count": 13,
   "id": "6e010a58",
   "metadata": {},
   "outputs": [],
   "source": [
    "# a =\"[\"\"a\",\"a\",\"b\"\",3,4,5]\"\n",
    "# b  = []\n",
    "# print(type(a))\n",
    "\n",
    "# for x in a:\n",
    "#     # print(x)\n",
    "#     b.append(int(x))\n",
    "# print(b) \n",
    "\n",
    "\n",
    "\n"
   ]
  },
  {
   "cell_type": "code",
   "execution_count": null,
   "id": "d2032f03",
   "metadata": {},
   "outputs": [],
   "source": []
  }
 ],
 "metadata": {
  "kernelspec": {
   "display_name": "Python 3",
   "language": "python",
   "name": "python3"
  },
  "language_info": {
   "codemirror_mode": {
    "name": "ipython",
    "version": 3
   },
   "file_extension": ".py",
   "mimetype": "text/x-python",
   "name": "python",
   "nbconvert_exporter": "python",
   "pygments_lexer": "ipython3",
   "version": "3.11.5"
  }
 },
 "nbformat": 4,
 "nbformat_minor": 5
}
