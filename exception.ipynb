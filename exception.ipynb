{
 "cells": [
  {
   "cell_type": "markdown",
   "id": "2651e004",
   "metadata": {},
   "source": [
    "#### Exception Handing "
   ]
  },
  {
   "cell_type": "code",
   "execution_count": 1,
   "id": "7d050066",
   "metadata": {},
   "outputs": [],
   "source": [
    "try:\n",
    "    pass  # main code\n",
    "except:\n",
    "    pass # exception code and handling\n",
    "else:\n",
    "    pass # executed when there is no exception \n",
    "finally: \n",
    "    pass  ### always executed\n"
   ]
  },
  {
   "cell_type": "code",
   "execution_count": 2,
   "id": "4e2323ee",
   "metadata": {},
   "outputs": [
    {
     "name": "stdout",
     "output_type": "stream",
     "text": [
      "2.0\n"
     ]
    }
   ],
   "source": [
    "try:\n",
    "    a = 10 \n",
    "    b = 5\n",
    "    print(a/b)\n",
    "except:\n",
    "    print(\"exception\")\n"
   ]
  },
  {
   "cell_type": "code",
   "execution_count": 7,
   "id": "b9e1314a",
   "metadata": {},
   "outputs": [
    {
     "name": "stdout",
     "output_type": "stream",
     "text": [
      "aapne koi string dali hai \n"
     ]
    }
   ],
   "source": [
    "try: \n",
    "    num1 =int(input(\"enter a number\"))\n",
    "    num2 =int(input(\"enter a second number\"))\n",
    "    print(num1/num2)\n",
    "except:\n",
    "    print(\"aapne koi string dali hai \")"
   ]
  },
  {
   "cell_type": "code",
   "execution_count": 12,
   "id": "2b49e4d0",
   "metadata": {},
   "outputs": [
    {
     "name": "stdout",
     "output_type": "stream",
     "text": [
      "division by zero\n",
      "aapne koi string dali hai \n"
     ]
    }
   ],
   "source": [
    "try: \n",
    "    num1 =int(input(\"enter a number\"))\n",
    "    num2 =int(input(\"enter a second number\"))\n",
    "    print(num1/num2)\n",
    "except Exception as e:\n",
    "    print(e)\n",
    "    print(\"aapne koi string dali hai \")"
   ]
  },
  {
   "cell_type": "code",
   "execution_count": 13,
   "id": "2f73876d",
   "metadata": {},
   "outputs": [],
   "source": [
    "# 25/0"
   ]
  },
  {
   "cell_type": "code",
   "execution_count": 15,
   "id": "edc74abd",
   "metadata": {},
   "outputs": [
    {
     "name": "stdout",
     "output_type": "stream",
     "text": [
      "invalid literal for int() with base 10: 'hello '\n",
      "aapne koi string dali hai \n",
      "aap tino chalo ya na chalo me to chalunga \n"
     ]
    }
   ],
   "source": [
    "try: \n",
    "    num1 =int(input(\"enter a number\"))\n",
    "    num2 =int(input(\"enter a second number\"))\n",
    "    print(num1/num2)\n",
    "except Exception as e:\n",
    "    print(e)\n",
    "    print(\"aapne koi string dali hai \")\n",
    "else:\n",
    "    print(\"hello bhai me jb hi chalunga jb mera try block chalega \")\n",
    "finally:\n",
    "    print(\"aap tino chalo ya na chalo me to chalunga \")"
   ]
  },
  {
   "cell_type": "code",
   "execution_count": 21,
   "id": "3da838b2",
   "metadata": {},
   "outputs": [
    {
     "name": "stdout",
     "output_type": "stream",
     "text": [
      "not valid\n",
      "aap tino chalo ya na chalo me to chalunga \n"
     ]
    }
   ],
   "source": [
    "# RunatimeError\n",
    "try:\n",
    "    x = -6\n",
    "\n",
    "    if x<0:\n",
    "        raise \n",
    "\n",
    "except:\n",
    "    print(\"not valid\")\n",
    "else:\n",
    "    print(\"hello bhai me jb hi chalunga jb mera try block chalega \")\n",
    "finally:\n",
    "    print(\"aap tino chalo ya na chalo me to chalunga \")"
   ]
  },
  {
   "cell_type": "code",
   "execution_count": 20,
   "id": "9adedc26",
   "metadata": {},
   "outputs": [
    {
     "name": "stdout",
     "output_type": "stream",
     "text": [
      "not valid\n"
     ]
    }
   ],
   "source": [
    "# valueerror \n",
    "try:\n",
    "    x = -6\n",
    "    if x<0:\n",
    "        raise ValueError(\"not valid\") \n",
    "except ValueError as e:\n",
    "    print(e)"
   ]
  },
  {
   "cell_type": "code",
   "execution_count": 19,
   "id": "ecc9226f",
   "metadata": {},
   "outputs": [
    {
     "ename": "TypeError",
     "evalue": "not valid",
     "output_type": "error",
     "traceback": [
      "\u001b[1;31m---------------------------------------------------------------------------\u001b[0m",
      "\u001b[1;31mTypeError\u001b[0m                                 Traceback (most recent call last)",
      "Cell \u001b[1;32mIn[19], line 6\u001b[0m\n\u001b[0;32m      3\u001b[0m x \u001b[38;5;241m=\u001b[39m \u001b[38;5;241m-\u001b[39m\u001b[38;5;241m6\u001b[39m\n\u001b[0;32m      5\u001b[0m \u001b[38;5;28;01mif\u001b[39;00m x\u001b[38;5;241m<\u001b[39m\u001b[38;5;241m0\u001b[39m:\n\u001b[1;32m----> 6\u001b[0m     \u001b[38;5;28;01mraise\u001b[39;00m \u001b[38;5;167;01mTypeError\u001b[39;00m(\u001b[38;5;124m\"\u001b[39m\u001b[38;5;124mnot valid\u001b[39m\u001b[38;5;124m\"\u001b[39m) \n",
      "\u001b[1;31mTypeError\u001b[0m: not valid"
     ]
    }
   ],
   "source": [
    "# valueerror \n",
    "\n",
    "x = -6\n",
    "\n",
    "if x<0:\n",
    "    raise TypeError(\"not valid\") "
   ]
  },
  {
   "cell_type": "code",
   "execution_count": null,
   "id": "6c5768f1",
   "metadata": {},
   "outputs": [],
   "source": []
  }
 ],
 "metadata": {
  "kernelspec": {
   "display_name": "Python 3",
   "language": "python",
   "name": "python3"
  },
  "language_info": {
   "codemirror_mode": {
    "name": "ipython",
    "version": 3
   },
   "file_extension": ".py",
   "mimetype": "text/x-python",
   "name": "python",
   "nbconvert_exporter": "python",
   "pygments_lexer": "ipython3",
   "version": "3.11.5"
  }
 },
 "nbformat": 4,
 "nbformat_minor": 5
}
