{
 "cells": [
  {
   "cell_type": "markdown",
   "id": "9dcfb8c9",
   "metadata": {},
   "source": [
    "###  CONDITIONAL STATEMENT\n",
    "A conditional statement in programming is a control structure that allows a program to execute different blocks of code based on **specific conditions**. It enables the *program* to make decisions and choose between alternative actions.\n",
    "\n",
    "\n"
   ]
  },
  {
   "cell_type": "code",
   "execution_count": 14,
   "id": "9649c2e3",
   "metadata": {},
   "outputs": [
    {
     "name": "stdout",
     "output_type": "stream",
     "text": [
      "x is greater than 5\n"
     ]
    }
   ],
   "source": [
    "x = 10 \n",
    "if x>5:\n",
    "    print(\"x is greater than 5\")\n",
    "\n",
    "\n"
   ]
  },
  {
   "cell_type": "code",
   "execution_count": 10,
   "id": "9655bc6c",
   "metadata": {},
   "outputs": [
    {
     "name": "stdout",
     "output_type": "stream",
     "text": [
      "x is less than 5\n"
     ]
    }
   ],
   "source": [
    "x = 10 \n",
    "if x>15:\n",
    "    print(\"x is greater than 5\")\n",
    "else:\n",
    "    print(\"x is less than 5\")"
   ]
  },
  {
   "cell_type": "code",
   "execution_count": 11,
   "id": "ce940860",
   "metadata": {},
   "outputs": [
    {
     "name": "stdout",
     "output_type": "stream",
     "text": [
      "x is greater than 5\n"
     ]
    }
   ],
   "source": [
    "x = 7 \n",
    "if x >10:\n",
    "    print(\"x is greater than 10\")\n",
    "elif x>5:\n",
    "    print(\"x is greater than 5\")\n",
    "else:\n",
    "    print(\"x is less than 5\")"
   ]
  },
  {
   "cell_type": "code",
   "execution_count": 12,
   "id": "77ddaa67",
   "metadata": {},
   "outputs": [
    {
     "name": "stdout",
     "output_type": "stream",
     "text": [
      "x is between 10 to 20\n"
     ]
    }
   ],
   "source": [
    "x = 15 \n",
    "if x>10:\n",
    "    if x<20:\n",
    "        print(\"x is between 10 to 20\")"
   ]
  },
  {
   "cell_type": "code",
   "execution_count": 13,
   "id": "37fbff88",
   "metadata": {},
   "outputs": [],
   "source": [
    "x = 15\n",
    "if x>0:\n",
    "    pass "
   ]
  },
  {
   "cell_type": "code",
   "execution_count": null,
   "id": "f362ab86",
   "metadata": {},
   "outputs": [],
   "source": [
    "# even and odd number findout krne hai \n",
    "# update the dict key \n"
   ]
  }
 ],
 "metadata": {
  "kernelspec": {
   "display_name": "Python 3",
   "language": "python",
   "name": "python3"
  },
  "language_info": {
   "codemirror_mode": {
    "name": "ipython",
    "version": 3
   },
   "file_extension": ".py",
   "mimetype": "text/x-python",
   "name": "python",
   "nbconvert_exporter": "python",
   "pygments_lexer": "ipython3",
   "version": "3.11.5"
  }
 },
 "nbformat": 4,
 "nbformat_minor": 5
}
