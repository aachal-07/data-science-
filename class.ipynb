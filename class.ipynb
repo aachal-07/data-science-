{
 "cells": [
  {
   "cell_type": "markdown",
   "id": "38fb40c9",
   "metadata": {},
   "source": [
    "### Oops \n",
    "    Class "
   ]
  },
  {
   "cell_type": "code",
   "execution_count": 2,
   "id": "9ee2857b",
   "metadata": {},
   "outputs": [],
   "source": [
    "class Student:   ## Student is a class  class is keyword\n",
    "    pass \n"
   ]
  },
  {
   "cell_type": "code",
   "execution_count": null,
   "id": "7212a775",
   "metadata": {},
   "outputs": [],
   "source": [
    "class Bank:\n",
    "    name = \"ritik\"\n",
    "    age = 20\n",
    "    address = \"delhi\"\n",
    "    pincode = 110001\n",
    "    mobile = 9999999999\n",
    "    balance = 10000\n",
    "bank_obj =Bank()   # object\n",
    "\n"
   ]
  },
  {
   "cell_type": "code",
   "execution_count": 5,
   "id": "8870fbea",
   "metadata": {},
   "outputs": [
    {
     "name": "stdout",
     "output_type": "stream",
     "text": [
      "bank name:- ritik\n",
      "bank age:- 20\n",
      "bank address:- delhi\n",
      "bank pincode:- 110001\n",
      "bank mobile:- 9999999999\n",
      "bank balance:- 10000\n"
     ]
    }
   ],
   "source": [
    "print(\"bank name:-\",bank_obj.name) \n",
    "print(\"bank age:-\",bank_obj.age)\n",
    "print(\"bank address:-\",bank_obj.address)\n",
    "print(\"bank pincode:-\",bank_obj.pincode)\n",
    "print(\"bank mobile:-\",bank_obj.mobile)\n",
    "print(\"bank balance:-\",bank_obj.balance)"
   ]
  },
  {
   "cell_type": "code",
   "execution_count": 21,
   "id": "1b413260",
   "metadata": {},
   "outputs": [],
   "source": [
    "class Bank:\n",
    "    name = \"ritik\"\n",
    "    age = 20\n",
    "    address = \"delhi\"\n",
    "    pincode = 110001\n",
    "    mobile = 9999999999\n",
    "    balance = 10000\n",
    "    def  show_info(self):\n",
    "        print(self.name )\n",
    "        print(self.address)\n",
    "        print(self.pincode)\n",
    "        print(self.balance) \n",
    "        print(self.mobile)\n",
    "        # print(name , address, pincode, balance, mobile)\n",
    "bank_obj=Bank()  "
   ]
  },
  {
   "cell_type": "code",
   "execution_count": null,
   "id": "42b96298",
   "metadata": {},
   "outputs": [
    {
     "name": "stdout",
     "output_type": "stream",
     "text": [
      "ritik\n",
      "delhi\n",
      "110001\n",
      "10000\n",
      "9999999999\n",
      "ritik\n",
      "delhi\n",
      "110001\n",
      "10000\n",
      "9999999999\n"
     ]
    }
   ],
   "source": [
    "# bank_obj.name, bank_obj.address, bank_obj.pincode,  bank_obj.balance\n",
    "\n",
    "bank_obj.show_info()\n",
    "\n",
    "bank_obj.show_info()"
   ]
  },
  {
   "cell_type": "markdown",
   "id": "4768772c",
   "metadata": {},
   "source": [
    "#### Constructor"
   ]
  },
  {
   "cell_type": "code",
   "execution_count": 24,
   "id": "f3e8c617",
   "metadata": {},
   "outputs": [],
   "source": [
    "class Bank:\n",
    "    def __init__(self): \n",
    "        pass \n",
    "bank_obj=Bank()"
   ]
  },
  {
   "cell_type": "code",
   "execution_count": 46,
   "id": "63800858",
   "metadata": {},
   "outputs": [
    {
     "name": "stdout",
     "output_type": "stream",
     "text": [
      "ritik\n",
      "delhi\n",
      "110001\n",
      "10000\n"
     ]
    }
   ],
   "source": [
    "class Bank:\n",
    "    mera_name = \"ritik\"  # class variable\n",
    "    def __init__(self): # constructor and self is a keyword\n",
    "        self.name = \"ritik\"  # instance variable\n",
    "        self.address = \"delhi\"\n",
    "        self.pincode = 110001\n",
    "        self.balance = 10000\n",
    "\n",
    "\n",
    "    def show_info(self):\n",
    "        print(self.name)\n",
    "        print(self.address)\n",
    "        print(self.pincode)\n",
    "        print(self.balance)\n",
    "        \n",
    "bank_obj=Bank()\n",
    "bank_obj.show_info()"
   ]
  },
  {
   "cell_type": "code",
   "execution_count": 30,
   "id": "2d149607",
   "metadata": {},
   "outputs": [
    {
     "name": "stdout",
     "output_type": "stream",
     "text": [
      "ritik\n",
      "delhi\n",
      "110001\n",
      "10000\n"
     ]
    }
   ],
   "source": [
    "# print(bank_obj.mera_name)\n",
    "print(bank_obj.name)\n",
    "print(bank_obj.address)\n",
    "print(bank_obj.pincode)\n",
    "print(bank_obj.balance)"
   ]
  },
  {
   "cell_type": "code",
   "execution_count": 38,
   "id": "3ac3c1ae",
   "metadata": {},
   "outputs": [],
   "source": [
    "class Bank:\n",
    "    def __init__(self, name,address, balance, pincode ):\n",
    "        self.name = name \n",
    "        self.address = address\n",
    "        self.pincode = pincode\n",
    "        self.balance = balance\n",
    "\n",
    "\n",
    "obj_bank1=Bank(name=\"ritik\", address=\"delhi\", balance=10000, pincode=110001)"
   ]
  },
  {
   "cell_type": "code",
   "execution_count": 39,
   "id": "99b323b6",
   "metadata": {},
   "outputs": [
    {
     "data": {
      "text/plain": [
       "10000"
      ]
     },
     "execution_count": 39,
     "metadata": {},
     "output_type": "execute_result"
    }
   ],
   "source": [
    "obj_bank1.balance"
   ]
  },
  {
   "cell_type": "code",
   "execution_count": 40,
   "id": "075107cf",
   "metadata": {},
   "outputs": [
    {
     "data": {
      "text/plain": [
       "'ritik'"
      ]
     },
     "execution_count": 40,
     "metadata": {},
     "output_type": "execute_result"
    }
   ],
   "source": [
    "obj_bank1.name"
   ]
  },
  {
   "cell_type": "code",
   "execution_count": null,
   "id": "4ecc383c",
   "metadata": {},
   "outputs": [
    {
     "data": {
      "text/plain": [
       "'delhi'"
      ]
     },
     "execution_count": 35,
     "metadata": {},
     "output_type": "execute_result"
    }
   ],
   "source": [
    "obj_bank1.address"
   ]
  },
  {
   "cell_type": "code",
   "execution_count": 42,
   "id": "106155b6",
   "metadata": {},
   "outputs": [],
   "source": [
    "kapil_bank=Bank(name=\"kapil\", address=\"alwar\", balance=100000, pincode=20001)\n",
    "ritik_bank=Bank(name=\"ritik\", address=\"delhi\", balance=10000, pincode=110001)"
   ]
  },
  {
   "cell_type": "code",
   "execution_count": 43,
   "id": "f514745d",
   "metadata": {},
   "outputs": [
    {
     "data": {
      "text/plain": [
       "(100000, 'kapil', 'alwar', 20001)"
      ]
     },
     "execution_count": 43,
     "metadata": {},
     "output_type": "execute_result"
    }
   ],
   "source": [
    "kapil_bank.balance, kapil_bank.name, kapil_bank.address, kapil_bank.pincode"
   ]
  },
  {
   "cell_type": "code",
   "execution_count": 44,
   "id": "3b3185a2",
   "metadata": {},
   "outputs": [
    {
     "data": {
      "text/plain": [
       "(10000, 'ritik', 'delhi', 110001)"
      ]
     },
     "execution_count": 44,
     "metadata": {},
     "output_type": "execute_result"
    }
   ],
   "source": [
    "ritik_bank.balance, ritik_bank.name, ritik_bank.address, ritik_bank.pincode"
   ]
  },
  {
   "cell_type": "code",
   "execution_count": null,
   "id": "81484b08",
   "metadata": {},
   "outputs": [],
   "source": []
  }
 ],
 "metadata": {
  "kernelspec": {
   "display_name": "Python 3",
   "language": "python",
   "name": "python3"
  },
  "language_info": {
   "codemirror_mode": {
    "name": "ipython",
    "version": 3
   },
   "file_extension": ".py",
   "mimetype": "text/x-python",
   "name": "python",
   "nbconvert_exporter": "python",
   "pygments_lexer": "ipython3",
   "version": "3.11.5"
  }
 },
 "nbformat": 4,
 "nbformat_minor": 5
}
