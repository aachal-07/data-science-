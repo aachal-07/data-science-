{
 "cells": [
  {
   "cell_type": "markdown",
   "id": "05b4ccdf",
   "metadata": {},
   "source": [
    "#### Looping in python\n",
    "        for loop \n",
    "        while loop in python \n",
    "\n",
    "\n",
    "         For Loop "
   ]
  },
  {
   "cell_type": "code",
   "execution_count": 2,
   "id": "ee8e1225",
   "metadata": {},
   "outputs": [
    {
     "name": "stdout",
     "output_type": "stream",
     "text": [
      "1\n",
      "2\n",
      "3\n",
      "5\n",
      "2\n",
      "5\n"
     ]
    }
   ],
   "source": [
    "lst = [1,2,3,5,2,5]\n",
    "for x in lst:\n",
    "    print(x)\n",
    "\n"
   ]
  },
  {
   "cell_type": "code",
   "execution_count": 4,
   "id": "c19cce7a",
   "metadata": {},
   "outputs": [
    {
     "name": "stdout",
     "output_type": "stream",
     "text": [
      "1\n",
      "2\n",
      "2\n",
      "5\n",
      "52\n",
      "58\n",
      "5\n"
     ]
    }
   ],
   "source": [
    "tpl = (1,2,2,5,52,58,5)\n",
    "for item in tpl:\n",
    "    print(item)\n"
   ]
  },
  {
   "cell_type": "code",
   "execution_count": 5,
   "id": "ef9f70f0",
   "metadata": {},
   "outputs": [
    {
     "name": "stdout",
     "output_type": "stream",
     "text": [
      "0\n",
      "1\n",
      "2\n",
      "3\n",
      "4\n",
      "5\n",
      "6\n",
      "7\n",
      "8\n",
      "9\n"
     ]
    }
   ],
   "source": [
    "# range(10)\n",
    "\n",
    "for x in range(10):\n",
    "    print(x)\n"
   ]
  },
  {
   "cell_type": "code",
   "execution_count": 6,
   "id": "7807bd20",
   "metadata": {},
   "outputs": [
    {
     "name": "stdout",
     "output_type": "stream",
     "text": [
      "1\n",
      "2\n",
      "3\n",
      "4\n",
      "5\n",
      "6\n",
      "7\n",
      "8\n",
      "9\n"
     ]
    }
   ],
   "source": [
    "for x in range(1 , 10): # 1 to 9 1 starting point and 10 ending point \n",
    "    print(x)"
   ]
  },
  {
   "cell_type": "code",
   "execution_count": null,
   "id": "cbfc06a9",
   "metadata": {},
   "outputs": [
    {
     "name": "stdout",
     "output_type": "stream",
     "text": [
      "2\n",
      "4\n",
      "6\n",
      "8\n",
      "10\n",
      "12\n",
      "14\n",
      "16\n",
      "18\n",
      "20\n"
     ]
    }
   ],
   "source": [
    "for x in range(2 , 22 , 2  ): # 1 to 9 1 starting point and 10 ending point  and 2 is step\n",
    "    print(x)"
   ]
  },
  {
   "cell_type": "code",
   "execution_count": 9,
   "id": "6b45ca4f",
   "metadata": {},
   "outputs": [
    {
     "name": "stdout",
     "output_type": "stream",
     "text": [
      "10\n",
      "9\n",
      "8\n",
      "7\n",
      "6\n",
      "5\n",
      "4\n",
      "3\n",
      "2\n",
      "1\n"
     ]
    }
   ],
   "source": [
    "for x in range(10, 0, -1):\n",
    "    print(x)"
   ]
  },
  {
   "cell_type": "markdown",
   "id": "255b24a9",
   "metadata": {},
   "source": [
    "####  Break , continue and else "
   ]
  },
  {
   "cell_type": "code",
   "execution_count": 12,
   "id": "abfc9101",
   "metadata": {},
   "outputs": [
    {
     "name": "stdout",
     "output_type": "stream",
     "text": [
      "0\n",
      "1\n",
      "2\n",
      "3\n",
      "4\n"
     ]
    }
   ],
   "source": [
    "# break example \n",
    "for x in range(10):\n",
    "    if x == 5:\n",
    "        break\n",
    "    print(x)\n"
   ]
  },
  {
   "cell_type": "code",
   "execution_count": 14,
   "id": "9dd5aa6a",
   "metadata": {},
   "outputs": [
    {
     "name": "stdout",
     "output_type": "stream",
     "text": [
      "0\n",
      "1\n",
      "2\n",
      "3\n",
      "4\n",
      "6\n",
      "7\n",
      "8\n",
      "9\n"
     ]
    }
   ],
   "source": [
    "# continue example\n",
    "for x in range(10):\n",
    "    if x==5:\n",
    "        continue\n",
    "    print(x)"
   ]
  },
  {
   "cell_type": "code",
   "execution_count": 16,
   "id": "721a50b1",
   "metadata": {},
   "outputs": [
    {
     "name": "stdout",
     "output_type": "stream",
     "text": [
      "0\n",
      "1\n",
      "2\n",
      "3\n",
      "4\n",
      "5\n",
      "6\n",
      "7\n",
      "8\n",
      "9\n",
      "loop is Done\n"
     ]
    }
   ],
   "source": [
    "# else example\n",
    "for x in range(10):\n",
    "    print(x)\n",
    "else:\n",
    "    print(\"loop is Done\")"
   ]
  },
  {
   "cell_type": "markdown",
   "id": "3f01281b",
   "metadata": {},
   "source": [
    "##### while loop in python "
   ]
  },
  {
   "cell_type": "code",
   "execution_count": 17,
   "id": "1cdcceb9",
   "metadata": {},
   "outputs": [
    {
     "name": "stdout",
     "output_type": "stream",
     "text": [
      "0\n",
      "1\n",
      "2\n",
      "3\n",
      "4\n",
      "5\n",
      "6\n",
      "7\n",
      "8\n",
      "9\n"
     ]
    }
   ],
   "source": [
    "x= 0 \n",
    "while x <10:\n",
    "    print(x)\n",
    "    x+=1"
   ]
  },
  {
   "cell_type": "code",
   "execution_count": 19,
   "id": "11944e01",
   "metadata": {},
   "outputs": [
    {
     "name": "stdout",
     "output_type": "stream",
     "text": [
      "('name', 'ritik')\n",
      "('last_name', 'kmt')\n",
      "('age', 20)\n"
     ]
    }
   ],
   "source": [
    "my_dict = {\n",
    "    \"name\" : \"ritik\",\n",
    "    \"last_name\" : \"kmt\",\n",
    "    \"age\" : 20\n",
    "}\n",
    "\n",
    "for item in my_dict.items():\n",
    "    print(item)"
   ]
  },
  {
   "cell_type": "code",
   "execution_count": 20,
   "id": "6d4121fe",
   "metadata": {},
   "outputs": [
    {
     "name": "stdout",
     "output_type": "stream",
     "text": [
      "name\n",
      "last_name\n",
      "age\n"
     ]
    }
   ],
   "source": [
    "my_dict = {\n",
    "    \"name\" : \"ritik\",\n",
    "    \"last_name\" : \"kmt\",\n",
    "    \"age\" : 20\n",
    "}\n",
    "\n",
    "for item in my_dict.keys():\n",
    "    print(item)"
   ]
  },
  {
   "cell_type": "code",
   "execution_count": 21,
   "id": "8555774e",
   "metadata": {},
   "outputs": [
    {
     "name": "stdout",
     "output_type": "stream",
     "text": [
      "ritik\n",
      "kmt\n",
      "20\n"
     ]
    }
   ],
   "source": [
    "my_dict = {\n",
    "    \"name\" : \"ritik\",\n",
    "    \"last_name\" : \"kmt\",\n",
    "    \"age\" : 20\n",
    "}\n",
    "\n",
    "for item in my_dict.values():\n",
    "    print(item)"
   ]
  },
  {
   "cell_type": "code",
   "execution_count": null,
   "id": "af5e8d96",
   "metadata": {},
   "outputs": [],
   "source": []
  }
 ],
 "metadata": {
  "kernelspec": {
   "display_name": "Python 3",
   "language": "python",
   "name": "python3"
  },
  "language_info": {
   "codemirror_mode": {
    "name": "ipython",
    "version": 3
   },
   "file_extension": ".py",
   "mimetype": "text/x-python",
   "name": "python",
   "nbconvert_exporter": "python",
   "pygments_lexer": "ipython3",
   "version": "3.11.5"
  }
 },
 "nbformat": 4,
 "nbformat_minor": 5
}
