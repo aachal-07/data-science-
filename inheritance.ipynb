{
 "cells": [
  {
   "cell_type": "markdown",
   "id": "da1f621e",
   "metadata": {},
   "source": [
    "#### Inheritance in python "
   ]
  },
  {
   "cell_type": "code",
   "execution_count": null,
   "id": "5f82de99",
   "metadata": {},
   "outputs": [],
   "source": [
    "#single inheritance \n",
    "class Parent:\n",
    "    Father_name=\"Hanuram ji \"\n",
    "    Mother_name=\"Radha ji \"\n",
    "    \n",
    "\n",
    "class Child(Parent):\n",
    "    child_name=\"Ritik\"\n",
    "    child_age = 20  \n",
    "chile_obj=Child()\n",
    "\n",
    "chile_obj.Father_name , chile_obj.Mother_name, chile_obj.child_name, chile_obj.child_age"
   ]
  },
  {
   "cell_type": "code",
   "execution_count": 13,
   "id": "9fc54d46",
   "metadata": {},
   "outputs": [
    {
     "name": "stdout",
     "output_type": "stream",
     "text": [
      "grand father name:-Ramesh\n",
      " grand mother name:-Radha\n",
      " father name:-Rajesh\n",
      " mother name:-kamla devi\n",
      " child name:-Ritik\n",
      " child age:-20\n"
     ]
    }
   ],
   "source": [
    "#Multileval inheritance\n",
    "class Grand_Father:\n",
    "    grand_father_name=\"Ramesh\"\n",
    "    grans_mother_name=\"Radha\"\n",
    "class Father(Grand_Father):\n",
    "    father_name = \"Rajesh\"\n",
    "    mother_name=\"kamla devi\"\n",
    "class Child(Father):\n",
    "    child_name=\"Ritik\"\n",
    "    child_age=20\n",
    "    \n",
    "chile_obj=Child()\n",
    "\n",
    "print(f\"grand father name:-{chile_obj.grand_father_name}\")\n",
    "print(f\" grand mother name:-{chile_obj.grans_mother_name}\")\n",
    "print(f\" father name:-{chile_obj.father_name}\")\n",
    "print(f\" mother name:-{chile_obj.mother_name}\")\n",
    "print(f\" child name:-{chile_obj.child_name}\")\n",
    "print(f\" child age:-{chile_obj.child_age}\")"
   ]
  },
  {
   "cell_type": "code",
   "execution_count": 15,
   "id": "4ba55ad0",
   "metadata": {},
   "outputs": [
    {
     "name": "stdout",
     "output_type": "stream",
     "text": [
      "grand father name:-Ramesh\n",
      " grand mother name:-Radha\n",
      " father name:-Rajesh\n",
      " mother name:-kamla devi\n",
      " child name:-Ritik\n",
      " child age:-20\n"
     ]
    }
   ],
   "source": [
    "# multipale inheritance\n",
    "class grand_father:\n",
    "    grand_father_name=\"Ramesh\"\n",
    "    grans_mother_name=\"Radha\"\n",
    "class Father(grand_father):\n",
    "    father_name = \"Rajesh\"\n",
    "    mother_name=\"kamla devi\"\n",
    "class Child(Father,grand_father):\n",
    "    child_name=\"Ritik\"\n",
    "    child_age=20\n",
    "    \n",
    "chile_obj=Child()\n",
    "\n",
    "print(f\"grand father name:-{chile_obj.grand_father_name}\")\n",
    "print(f\" grand mother name:-{chile_obj.grans_mother_name}\")\n",
    "print(f\" father name:-{chile_obj.father_name}\")\n",
    "print(f\" mother name:-{chile_obj.mother_name}\")\n",
    "print(f\" child name:-{chile_obj.child_name}\")\n",
    "print(f\" child age:-{chile_obj.child_age}\")"
   ]
  },
  {
   "cell_type": "code",
   "execution_count": 16,
   "id": "63359ad7",
   "metadata": {},
   "outputs": [],
   "source": [
    "# hybrid inheritance\n",
    "# herarchical inheritance"
   ]
  },
  {
   "cell_type": "code",
   "execution_count": null,
   "id": "9313f66a",
   "metadata": {},
   "outputs": [],
   "source": []
  },
  {
   "cell_type": "code",
   "execution_count": null,
   "id": "5cf75b67",
   "metadata": {},
   "outputs": [],
   "source": []
  }
 ],
 "metadata": {
  "kernelspec": {
   "display_name": "Python 3",
   "language": "python",
   "name": "python3"
  },
  "language_info": {
   "codemirror_mode": {
    "name": "ipython",
    "version": 3
   },
   "file_extension": ".py",
   "mimetype": "text/x-python",
   "name": "python",
   "nbconvert_exporter": "python",
   "pygments_lexer": "ipython3",
   "version": "3.11.5"
  }
 },
 "nbformat": 4,
 "nbformat_minor": 5
}
