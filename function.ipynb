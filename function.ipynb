{
 "cells": [
  {
   "cell_type": "markdown",
   "id": "3db4fe94",
   "metadata": {},
   "source": [
    "##### Function in python  "
   ]
  },
  {
   "cell_type": "code",
   "execution_count": 1,
   "id": "4165a638",
   "metadata": {},
   "outputs": [],
   "source": [
    "def funtion_name():\n",
    "    # apna code likhna \n",
    "    pass\n",
    "funtion_name()"
   ]
  },
  {
   "cell_type": "code",
   "execution_count": 3,
   "id": "7e639064",
   "metadata": {},
   "outputs": [],
   "source": [
    "def temp():\n",
    "    print(\"hello bhahya hm aaj python ke nader funtion pd rhe hai \")"
   ]
  },
  {
   "cell_type": "code",
   "execution_count": 4,
   "id": "b1d1b16b",
   "metadata": {},
   "outputs": [
    {
     "name": "stdout",
     "output_type": "stream",
     "text": [
      "hello bhahya hm aaj python ke nader funtion pd rhe hai \n"
     ]
    }
   ],
   "source": [
    "temp()"
   ]
  },
  {
   "cell_type": "code",
   "execution_count": 6,
   "id": "156a634e",
   "metadata": {},
   "outputs": [],
   "source": [
    "def Demo(name):\n",
    "    print(f\"hello {name} bhahya hm aaj python ke nader funtion pd rhe hai \")\n",
    "    \n"
   ]
  },
  {
   "cell_type": "code",
   "execution_count": 8,
   "id": "12c360ed",
   "metadata": {},
   "outputs": [
    {
     "name": "stdout",
     "output_type": "stream",
     "text": [
      "hello kapil bhahya hm aaj python ke nader funtion pd rhe hai \n"
     ]
    }
   ],
   "source": [
    "Demo(name = \"kapil\")"
   ]
  },
  {
   "cell_type": "code",
   "execution_count": 9,
   "id": "abeb79e0",
   "metadata": {},
   "outputs": [],
   "source": [
    "def mul_table(num1 , num2):\n",
    "    print(num1*num2)\n",
    "    \n"
   ]
  },
  {
   "cell_type": "code",
   "execution_count": 10,
   "id": "3c077514",
   "metadata": {},
   "outputs": [
    {
     "name": "stdout",
     "output_type": "stream",
     "text": [
      "6\n"
     ]
    }
   ],
   "source": [
    "mul_table(num1 = 2 , num2 = 3)"
   ]
  },
  {
   "cell_type": "code",
   "execution_count": 12,
   "id": "9546b497",
   "metadata": {},
   "outputs": [],
   "source": [
    "def add(a , b ):\n",
    "    return a+b\n"
   ]
  },
  {
   "cell_type": "code",
   "execution_count": 13,
   "id": "9b7eb630",
   "metadata": {},
   "outputs": [],
   "source": [
    "result =add(a = 2 , b = 3)"
   ]
  },
  {
   "cell_type": "code",
   "execution_count": 14,
   "id": "11e02e8e",
   "metadata": {},
   "outputs": [
    {
     "name": "stdout",
     "output_type": "stream",
     "text": [
      "5\n"
     ]
    }
   ],
   "source": [
    "print(result)"
   ]
  },
  {
   "cell_type": "code",
   "execution_count": null,
   "id": "d6a57a23",
   "metadata": {},
   "outputs": [
    {
     "name": "stdout",
     "output_type": "stream",
     "text": [
      "hello Guest\n"
     ]
    }
   ],
   "source": [
    "def greet(name= \"Guest\"):   \n",
    "    print(f\"hello {name}\")\n",
    "greet()"
   ]
  },
  {
   "cell_type": "code",
   "execution_count": 17,
   "id": "a75d1328",
   "metadata": {},
   "outputs": [
    {
     "name": "stdout",
     "output_type": "stream",
     "text": [
      "hello Ritik\n",
      "hello Ritik\n",
      "hello Ritik\n",
      "hello Ritik\n",
      "hello Ritik\n",
      "hello Ritik\n",
      "hello Ritik\n",
      "hello Ritik\n",
      "hello Ritik\n"
     ]
    }
   ],
   "source": [
    "greet(name = \"Ritik\")\n",
    "greet(name = \"Ritik\")\n",
    "\n",
    "greet(name = \"Ritik\")\n",
    "greet(name = \"Ritik\")\n",
    "greet(name = \"Ritik\")\n",
    "greet(name = \"Ritik\")\n",
    "greet(name = \"Ritik\")\n",
    "greet(name = \"Ritik\")\n",
    "greet(name = \"Ritik\")\n",
    "\n"
   ]
  },
  {
   "cell_type": "markdown",
   "id": "c81b19dc",
   "metadata": {},
   "source": [
    "### lambda  functions, "
   ]
  },
  {
   "cell_type": "code",
   "execution_count": 18,
   "id": "3d7536fa",
   "metadata": {},
   "outputs": [
    {
     "name": "stdout",
     "output_type": "stream",
     "text": [
      "5\n"
     ]
    }
   ],
   "source": [
    "# lambda args: expression\n",
    "\n",
    "add =lambda a,b : a+b\n",
    "print(add(2,3))"
   ]
  },
  {
   "cell_type": "code",
   "execution_count": 21,
   "id": "4a5d6c01",
   "metadata": {},
   "outputs": [
    {
     "name": "stdout",
     "output_type": "stream",
     "text": [
      "5\n",
      "5\n",
      "5\n",
      "10\n",
      "7\n",
      "5\n",
      "101\n"
     ]
    }
   ],
   "source": [
    "print(add(2,3))\n",
    "print(add(2,3))\n",
    "print(add(2,3))\n",
    "print(add(2,8))\n",
    "print(add(2,5))\n",
    "print(add(2,3))\n",
    "print(add(2,99))\n",
    "\n"
   ]
  },
  {
   "cell_type": "code",
   "execution_count": 22,
   "id": "80541219",
   "metadata": {},
   "outputs": [
    {
     "name": "stdout",
     "output_type": "stream",
     "text": [
      "4\n"
     ]
    }
   ],
   "source": [
    "square =lambda a : a*a\n",
    "print(square(2))"
   ]
  },
  {
   "cell_type": "code",
   "execution_count": 23,
   "id": "f6137fbd",
   "metadata": {},
   "outputs": [
    {
     "name": "stdout",
     "output_type": "stream",
     "text": [
      "4\n",
      "49\n",
      "16\n",
      "25\n",
      "4\n"
     ]
    }
   ],
   "source": [
    "print(square(2))\n",
    "print(square(7))\n",
    "print(square(4))\n",
    "print(square(5))\n",
    "print(square(2))\n",
    "\n"
   ]
  },
  {
   "cell_type": "code",
   "execution_count": null,
   "id": "83aa36e5",
   "metadata": {},
   "outputs": [],
   "source": []
  }
 ],
 "metadata": {
  "kernelspec": {
   "display_name": "Python 3",
   "language": "python",
   "name": "python3"
  },
  "language_info": {
   "codemirror_mode": {
    "name": "ipython",
    "version": 3
   },
   "file_extension": ".py",
   "mimetype": "text/x-python",
   "name": "python",
   "nbconvert_exporter": "python",
   "pygments_lexer": "ipython3",
   "version": "3.11.5"
  }
 },
 "nbformat": 4,
 "nbformat_minor": 5
}
